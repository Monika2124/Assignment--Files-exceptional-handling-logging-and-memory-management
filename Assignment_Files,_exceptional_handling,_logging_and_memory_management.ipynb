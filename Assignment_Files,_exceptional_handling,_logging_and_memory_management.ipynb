{
  "nbformat": 4,
  "nbformat_minor": 0,
  "metadata": {
    "colab": {
      "provenance": []
    },
    "kernelspec": {
      "name": "python3",
      "display_name": "Python 3"
    },
    "language_info": {
      "name": "python"
    }
  },
  "cells": [
    {
      "cell_type": "markdown",
      "source": [
        "#Theory Questions"
      ],
      "metadata": {
        "id": "iAmZmwTfhI30"
      }
    },
    {
      "cell_type": "markdown",
      "source": [
        "#Q1 What is the difference between interpreted and compiled languages?\n",
        "-\n",
        "  -interpreted language: Code is run line-by-line by an interpreter (like Python). If there's an error, execution stops at that line.\n",
        "  \n",
        "  -Compiled language: The entire code is translated into machine code first (like C++), and then run. Errors are caught during the compilation.\n",
        "\n",
        "Think of an interpreter as a translator who speaks as you speak. A compiler is like writing a whole book, then translating it, and reading it in one go.\n"
      ],
      "metadata": {
        "id": "-aJ56DU5hXH0"
      }
    },
    {
      "cell_type": "markdown",
      "source": [
        "#Q2- What is exception handling in Python?\n",
        "-\n",
        "  -It’s how Python deals with errors. Instead of crashing, Python can catch the error and let you handle it gracefully using try, except, etc.\n",
        " For example You're withdrawing ₹1000 from an ATM, but your balance is ₹500. Instead of crashing the machine, it shows: “Insufficient funds.” That’s exception handling!\n",
        "\n",
        "\n",
        "\n"
      ],
      "metadata": {
        "id": "r-HAHgmEhXE8"
      }
    },
    {
      "cell_type": "markdown",
      "source": [
        "#Q3. What is the purpose of the finally block in exception handling?\n",
        "-\n",
        "   -finally runs no matter what – whether an error happens or not. It’s great for cleanup tasks like closing files.\n",
        "   Example - magine locking your house door. Whether or not your shopping was successful, you always lock the door. That’s what finally does—always runs.\n"
      ],
      "metadata": {
        "id": "A1nD11ZthXCM"
      }
    },
    {
      "cell_type": "markdown",
      "source": [
        "Q4 - What is logging in Python ?\n",
        "-\n",
        "  -Logging means recording information (like errors or steps in a process) to a file or screen. It helps in debugging and monitoring.\n",
        "For example - Like a security camera recording everything, so you can check later if something went wrong.\n",
        "\n"
      ],
      "metadata": {
        "id": "q4gKWgzxiAOk"
      }
    },
    {
      "cell_type": "markdown",
      "source": [
        "#Q5 - What is the significance of the __del__ method in Python ?\n",
        "-\n",
        "  - __del__ is like a destructor. It's called when an object is about to be deleted. You can use it to clean up resources.\n",
        "For example - When you're done using a phone app and close it, it clears its memory—__del__ is like that final closing action.\n",
        "\n"
      ],
      "metadata": {
        "id": "M9v6-RdhhW57"
      }
    },
    {
      "cell_type": "markdown",
      "source": [
        "#Q6 What is the difference between import and from ... import in Python?\n",
        "-  \n",
        "  -import math: You use math.sqrt()\n",
        "  -from math import sqrt: You just use sqrt() directly\n",
        "for example - it's like either bringing the whole toolbox (import) or just the specific tool you need (from ... import).\n",
        "\n"
      ],
      "metadata": {
        "id": "F232mAbdhW3L"
      }
    },
    {
      "cell_type": "markdown",
      "source": [
        "#Q7 - How can you handle multiple exceptions in Python ?\n",
        "-\n",
        "  -# some code\n",
        "except (TypeError, ValueError) as e:\n",
        "    print(\"Caught an error:\", e)\n",
        "\n",
        "    If you’re cooking and either the gas runs out or the power goes off—you need a plan for both situations.\n",
        "\n"
      ],
      "metadata": {
        "id": "RjqdGZaUhW0U"
      }
    },
    {
      "cell_type": "markdown",
      "source": [
        "#Q8 What is the purpose of the with statement when handling files in Python?\n",
        "-\n",
        "  -It automatically closes the file after use. Example:\n",
        "with open('file.txt') as f:\n",
        "    data = f.read()\n",
        "\n",
        "    Imagine opening a notebook and it automatically closes itself when you finish writing—no chance of forgetting.\n",
        "\n"
      ],
      "metadata": {
        "id": "LdIJHlSuhWxT"
      }
    },
    {
      "cell_type": "markdown",
      "source": [
        "#Q9 What is the difference between multithreading and multiprocessing?\n",
        "-\n",
        " -Multithreading: Multiple tasks in the same process\n",
        " -Multiprocessing: Runs tasks in different processes. Better for CPU-heavy tasks.\n",
        "For examples-\n",
        "Multithreading: Chef cooking and answering phone at the same time.\n",
        "\n",
        "\n",
        "Multiprocessing: Two chefs cooking in separate kitchens."
      ],
      "metadata": {
        "id": "ogig_34VhWrb"
      }
    },
    {
      "cell_type": "markdown",
      "source": [
        "#Q10 - What are the advantages of using logging in a program ?\n",
        "-  \n",
        "  -Helps find out what went wrong and when. For example -Like keeping a maintenance logbook for your car. You know exactly when you got a tire change or an oil refill.\n",
        "\n"
      ],
      "metadata": {
        "id": "-mwYkBQghWob"
      }
    },
    {
      "cell_type": "markdown",
      "source": [
        "#Q11- What is memory management in Python?\n",
        "-  \n",
        " -  Like your phone cleaning background apps to free up RAM without you doing anything.\n",
        "\n",
        "\n",
        "\n"
      ],
      "metadata": {
        "id": "xFyFQILkhWlT"
      }
    },
    {
      "cell_type": "markdown",
      "source": [
        "#Q12- What are the basic steps involved in exception handling in Python?\n",
        "-  \n",
        "  -Use try, except, else, and finally to safely run code.Trying to open a door:\n",
        "\n",
        "\n",
        "try: Open the door\n",
        "\n",
        "\n",
        "except: If locked, use backup key\n",
        "\n",
        "\n",
        "else: If it opens, walk in\n",
        "\n",
        "\n",
        "finally: Close the door\n",
        "\n"
      ],
      "metadata": {
        "id": "RbVvreYMhWe8"
      }
    },
    {
      "cell_type": "markdown",
      "source": [
        "#Q13- Why is memory management important in Python ?\n",
        "-\n",
        "  - Good memory management keeps your program fast and efficient, avoiding memory leaks and crashes.\n",
        "\n",
        "\n"
      ],
      "metadata": {
        "id": "LukvJ7xxhWbr"
      }
    },
    {
      "cell_type": "markdown",
      "source": [
        "#Q14- What is the role of try and except in exception handling0\n",
        "-\n",
        "  -try: Code that might throw an error\n",
        "  -except: Code to run if there's an error\n",
        "  For example You try turning on the fan (try). If there's no electricity (except), you switch on the battery fan.\n"
      ],
      "metadata": {
        "id": "kxO5hAvnhWVb"
      }
    },
    {
      "cell_type": "markdown",
      "source": [
        "#Q15 How does Python's garbage collection system work ?\n",
        "-\n",
        "  -It tracks references to objects. When no one is using an object anymore, Python automatically deletes it to free up memory.\n",
        "  For example Like automatically throwing away empty boxes at home to free up space.\n",
        "\n",
        "\n",
        "\n"
      ],
      "metadata": {
        "id": "eMSoA-PQhWSr"
      }
    },
    {
      "cell_type": "markdown",
      "source": [
        "#Q16 What is the purpose of the else block in exception handling?\n",
        "-\n",
        "  -The else block runs only if no exceptions occurred in the try block.\n",
        "For example If you successfully bake a cake without burning it, you get to decorate it (else block!).\n",
        "\n"
      ],
      "metadata": {
        "id": "Pu8uC4bQhWQC"
      }
    },
    {
      "cell_type": "markdown",
      "source": [
        "#Q17 - What are the common logging levels in Python?\n",
        "-\n",
        "   -DEBUG, INFO, WARNING, ERROR, CRITICAL\n",
        "For Example:\n",
        "DEBUG: Developer notes\n",
        "INFO: Everything is fine\n",
        "WARNING: Be careful\n",
        "ERROR: Something went wrong\n",
        "CRITICAL: Emergency!\n",
        "\n"
      ],
      "metadata": {
        "id": "FSlBbyHbhWM0"
      }
    },
    {
      "cell_type": "markdown",
      "source": [
        "#Q18 -What is the difference between os.fork() and multiprocessing in Python?\n",
        "-\n",
        "  -os.fork() works only on Unix/Linux. It creates a child process.\n",
        "  -multiprocessing works on all platforms and is more user-friendly.\n",
        "\n",
        "For example:\n",
        "os.fork() only works on Linux.\n",
        "multiprocessing works everywhere and is easier to use.\n",
        "os.fork() is like copy-pasting a whole app manually. multiprocessing is like using a built-in “duplicate” button.\n"
      ],
      "metadata": {
        "id": "4s87JSNIhWKD"
      }
    },
    {
      "cell_type": "markdown",
      "source": [
        "#Q19-What is the importance of closing a file in Python?\n",
        "-\n",
        " -It frees up system resources and ensures that data is written properly.\n",
        "For example Like putting the cap back on a pen so it doesn’t dry out.\n"
      ],
      "metadata": {
        "id": "ApUwxlk9hWHU"
      }
    },
    {
      "cell_type": "markdown",
      "source": [
        "#Q20 - What is the difference between file.read() and file.readline() in Python0\n",
        "-\n",
        "   -read() reads the entire file as a string.\n",
        "   -readline() reads one line at a time.\n",
        "\n",
        "  For example Like reading an entire WhatsApp chat at once vs. scrolling message by message.\n",
        "\n"
      ],
      "metadata": {
        "id": "cWtKni5FhWCT"
      }
    },
    {
      "cell_type": "markdown",
      "source": [
        "#Q21- What is the logging module in Python used for ?\n",
        "-\n",
        "  -It’s used to record messages (info, warnings, errors) in your program.\n",
        "For example Like a black box in an airplane—it stores all the info in case something goes wrong.\n",
        "\n"
      ],
      "metadata": {
        "id": "LPwZrqLchWAD"
      }
    },
    {
      "cell_type": "markdown",
      "source": [
        "#Q- 22 What is the os module in Python used for in file handling?\n",
        "-  \n",
        "  -It helps interact with the operating system: check if a file exists, get file paths, delete files, etc.\n",
        "For example Like using your file manager app to check if a file exists or create a folder.\n",
        "\n"
      ],
      "metadata": {
        "id": "mnG8AHo4hV9t"
      }
    },
    {
      "cell_type": "markdown",
      "source": [
        "#Q23- What are the challenges associated with memory management in Python ?\n",
        "-  \n",
        "  -Reference cycles, unnecessary memory usage, and tracking object references can be tricky in large programs.\n",
        "- Like running many apps in the background and forgetting to close them—slows everything down.\n",
        "\n"
      ],
      "metadata": {
        "id": "Ub-7Cw3NhV7b"
      }
    },
    {
      "cell_type": "markdown",
      "source": [
        "#Q24 How do you raise an exception manually in Python?\n",
        "-  \n",
        "  -raise ValueError(\"Something went wrong\")\n",
        "If someone enters age = -1, you raise an error: “That’s not a valid age!”\n",
        "\n",
        "if age < 0:\n",
        "    raise ValueError(\"Age cannot be negative\")\n"
      ],
      "metadata": {
        "id": "F5SSRuNGhV5L"
      }
    },
    {
      "cell_type": "markdown",
      "source": [
        "#Q25  Why is it important to use multithreading in certain applications?\n",
        "-\n",
        "  -It allows multiple tasks to run at the same time, improving performance in I/O-bound programs (e.g., reading from files or web).\n",
        "Like chatting with a friend while cooking—doing two things at once without waiting.\n"
      ],
      "metadata": {
        "id": "nRro71J4hV2s"
      }
    },
    {
      "cell_type": "markdown",
      "source": [
        "#PRACTICAL QUESTiONS"
      ],
      "metadata": {
        "id": "r_slaJWZpxnT"
      }
    },
    {
      "cell_type": "code",
      "source": [
        "#Q1 How can you open a file for writing in Python and write a string to it?\n",
        "\n",
        "with open(\"example.txt\", \"w\") as file: #Imagine opening a notebook (\"w\" means write mode), writing something, and closing it automatically.\n",
        "\n",
        "    file.write(\"Hello, I am learning Python!\")\n"
      ],
      "metadata": {
        "id": "KAB_Zgu-p2nN"
      },
      "execution_count": 2,
      "outputs": []
    },
    {
      "cell_type": "code",
      "source": [
        "#Q2 Write a Python program to read the contents of a file and print each lineF\n",
        "with open(\"example.txt\", \"r\") as file:\n",
        "    for line in file:\n",
        "        print(line)"
      ],
      "metadata": {
        "colab": {
          "base_uri": "https://localhost:8080/"
        },
        "id": "nLmZh6EBp2ks",
        "outputId": "2068ffd8-0f28-4383-d643-7f69dcfe4e84"
      },
      "execution_count": 3,
      "outputs": [
        {
          "output_type": "stream",
          "name": "stdout",
          "text": [
            "Hello, I am learning Python!\n"
          ]
        }
      ]
    },
    {
      "cell_type": "code",
      "source": [
        "#Q3 -How would you handle a case where the file doesn't exist while trying to open it for reading?\n",
        "import os\n",
        "\n",
        "file_path = \"no_such_file.txt\"\n",
        "if os.path.exists(file_path):\n",
        "    with open(file_path, \"r\") as file:\n",
        "        content = file.read()\n",
        "else:\n",
        "    print(\"Oops! The file does not exist\")"
      ],
      "metadata": {
        "colab": {
          "base_uri": "https://localhost:8080/"
        },
        "id": "NJky9li9p2iL",
        "outputId": "91ff5596-c609-44fa-b46f-8c7cdd683e2b"
      },
      "execution_count": 8,
      "outputs": [
        {
          "output_type": "stream",
          "name": "stdout",
          "text": [
            "Oops! The file does not exist\n"
          ]
        }
      ]
    },
    {
      "cell_type": "code",
      "source": [
        "#Q4 Write a Python script that reads from one file and writes its content to another fileF\n",
        "\n",
        "with open(\"source.txt\", \"r\") as src:\n",
        "    content = src.read()\n",
        "\n",
        "with open(\"destination.txt\", \"w\") as dest:\n",
        "    dest.write(content)\n",
        "\n",
        "    #source missing hence error"
      ],
      "metadata": {
        "colab": {
          "base_uri": "https://localhost:8080/",
          "height": 211
        },
        "id": "OiGLTQILp2fj",
        "outputId": "ba769b99-7e0b-4aeb-ea89-70aabd165c14"
      },
      "execution_count": 14,
      "outputs": [
        {
          "output_type": "error",
          "ename": "FileNotFoundError",
          "evalue": "[Errno 2] No such file or directory: 'source.txt'",
          "traceback": [
            "\u001b[0;31m---------------------------------------------------------------------------\u001b[0m",
            "\u001b[0;31mFileNotFoundError\u001b[0m                         Traceback (most recent call last)",
            "\u001b[0;32m<ipython-input-14-2eed7fc76230>\u001b[0m in \u001b[0;36m<cell line: 0>\u001b[0;34m()\u001b[0m\n\u001b[1;32m      1\u001b[0m \u001b[0;31m#Q4 Write a Python script that reads from one file and writes its content to another fileF\u001b[0m\u001b[0;34m\u001b[0m\u001b[0;34m\u001b[0m\u001b[0m\n\u001b[1;32m      2\u001b[0m \u001b[0;34m\u001b[0m\u001b[0m\n\u001b[0;32m----> 3\u001b[0;31m \u001b[0;32mwith\u001b[0m \u001b[0mopen\u001b[0m\u001b[0;34m(\u001b[0m\u001b[0;34m\"source.txt\"\u001b[0m\u001b[0;34m,\u001b[0m \u001b[0;34m\"r\"\u001b[0m\u001b[0;34m)\u001b[0m \u001b[0;32mas\u001b[0m \u001b[0msrc\u001b[0m\u001b[0;34m:\u001b[0m\u001b[0;34m\u001b[0m\u001b[0;34m\u001b[0m\u001b[0m\n\u001b[0m\u001b[1;32m      4\u001b[0m     \u001b[0mcontent\u001b[0m \u001b[0;34m=\u001b[0m \u001b[0msrc\u001b[0m\u001b[0;34m.\u001b[0m\u001b[0mread\u001b[0m\u001b[0;34m(\u001b[0m\u001b[0;34m)\u001b[0m\u001b[0;34m\u001b[0m\u001b[0;34m\u001b[0m\u001b[0m\n\u001b[1;32m      5\u001b[0m \u001b[0;34m\u001b[0m\u001b[0m\n",
            "\u001b[0;31mFileNotFoundError\u001b[0m: [Errno 2] No such file or directory: 'source.txt'"
          ]
        }
      ]
    },
    {
      "cell_type": "code",
      "source": [
        "\n",
        "#Q5 - How would you catch and handle division by zero error in Python?\n",
        "try:\n",
        "    result = 10 / 0\n",
        "except ZeroDivisionError:\n",
        "    print(\"Can't divide by zero!\")"
      ],
      "metadata": {
        "colab": {
          "base_uri": "https://localhost:8080/"
        },
        "id": "XGHFmBaQp2bZ",
        "outputId": "cc1d94f9-58e2-438e-b663-5d7d230c85b9"
      },
      "execution_count": 15,
      "outputs": [
        {
          "output_type": "stream",
          "name": "stdout",
          "text": [
            "Can't divide by zero!\n"
          ]
        }
      ]
    },
    {
      "cell_type": "code",
      "source": [
        "#Q6 -F Write a Python program that logs an error message to a log file when a division by zero exception occursF\n",
        "import logging\n",
        "\n",
        "logging.basicConfig(filename='app.log', level=logging.ERROR)\n",
        "\n",
        "try:\n",
        "    5 / 0\n",
        "except ZeroDivisionError as e:\n",
        "    logging.error(\"Division by zero error occurred: %s\", e)"
      ],
      "metadata": {
        "colab": {
          "base_uri": "https://localhost:8080/"
        },
        "id": "9XPG2Prhp2Zw",
        "outputId": "866181fa-67c1-47f8-82cd-8b1c10aee43c"
      },
      "execution_count": 16,
      "outputs": [
        {
          "output_type": "stream",
          "name": "stderr",
          "text": [
            "ERROR:root:Division by zero error occurred: division by zero\n"
          ]
        }
      ]
    },
    {
      "cell_type": "code",
      "source": [
        "#7 How do you log information at different levels (INFO, ERROR, WARNING) in Python using the logging module?\n",
        "\n",
        "import logging\n",
        "\n",
        "logging.basicConfig(level=logging.DEBUG)\n",
        "\n",
        "logging.info(\"This is some information\")\n",
        "logging.warning(\"This is a warning\")\n",
        "logging.error(\"This is an error message\")"
      ],
      "metadata": {
        "colab": {
          "base_uri": "https://localhost:8080/"
        },
        "id": "clFDMXxVp2Vl",
        "outputId": "358200fa-c84d-4bd9-a466-93180639739f"
      },
      "execution_count": 17,
      "outputs": [
        {
          "output_type": "stream",
          "name": "stderr",
          "text": [
            "WARNING:root:This is a warning\n",
            "ERROR:root:This is an error message\n"
          ]
        }
      ]
    },
    {
      "cell_type": "code",
      "source": [
        "#Q8 -Write a program to handle a file opening error using exception handling?\n",
        "try:\n",
        "    with open(\"random_file.txt\") as file:\n",
        "        print(file.read())\n",
        "except FileNotFoundError:\n",
        "    print(\"File not found.\")"
      ],
      "metadata": {
        "colab": {
          "base_uri": "https://localhost:8080/"
        },
        "id": "4x2ht_uep2S8",
        "outputId": "18fc4750-dff8-4fca-dc39-29e6c5e8d3af"
      },
      "execution_count": 18,
      "outputs": [
        {
          "output_type": "stream",
          "name": "stdout",
          "text": [
            "File not found.\n"
          ]
        }
      ]
    },
    {
      "cell_type": "code",
      "source": [
        "#Q9 How can you read a file line by line and store its content in a list in Python?\n",
        "\n",
        "with open(\"example.txt\", \"r\") as file:\n",
        "    lines = file.readlines()\n",
        "\n",
        "print(lines)"
      ],
      "metadata": {
        "colab": {
          "base_uri": "https://localhost:8080/"
        },
        "id": "0MEGkWOGp2IN",
        "outputId": "b218ccfe-99f9-48fc-d9cf-59d6345b0b84"
      },
      "execution_count": 19,
      "outputs": [
        {
          "output_type": "stream",
          "name": "stdout",
          "text": [
            "['Hello, I am learning Python!']\n"
          ]
        }
      ]
    },
    {
      "cell_type": "code",
      "source": [
        "#Q10 - How can you append data to an existing file in Python?\n",
        "with open(\"example.txt\", \"a\") as file:\n",
        "    file.write(\"\\nAdding a new line!\")\n"
      ],
      "metadata": {
        "id": "5B0937bkp2F1"
      },
      "execution_count": 22,
      "outputs": []
    },
    {
      "cell_type": "code",
      "source": [
        "#Q11 Write a Python program that uses a try-except block to handle an error when attempting to access a dictionary key that doesn't exist?\n",
        "my_dict = {\"name\": \"Alice\"}\n",
        "\n",
        "try:\n",
        "    print(my_dict[\"age\"])\n",
        "except KeyError:\n",
        "    print(\"Oops! That key doesn’t exist.\")\n",
        "\n"
      ],
      "metadata": {
        "colab": {
          "base_uri": "https://localhost:8080/"
        },
        "id": "ckU2iOTep2Db",
        "outputId": "fc11096e-990a-4685-f46d-78c4af9bdbea"
      },
      "execution_count": 23,
      "outputs": [
        {
          "output_type": "stream",
          "name": "stdout",
          "text": [
            "Oops! That key doesn’t exist.\n"
          ]
        }
      ]
    },
    {
      "cell_type": "code",
      "source": [
        "#Q12 -  Write a program that demonstrates using multiple except blocks to handle different types of exceptions?\n",
        "\n",
        "try:\n",
        "    x = int(\"abc\")  # ValueError\n",
        "    y = 10 / 0       # ZeroDivisionError\n",
        "except ValueError:\n",
        "    print(\"That's not a number.\")\n",
        "except ZeroDivisionError:\n",
        "    print(\"You can't divide by zero.\")"
      ],
      "metadata": {
        "colab": {
          "base_uri": "https://localhost:8080/"
        },
        "id": "9PYmEoJup2BT",
        "outputId": "09729652-6833-4a37-9a16-505968c93a7e"
      },
      "execution_count": 24,
      "outputs": [
        {
          "output_type": "stream",
          "name": "stdout",
          "text": [
            "That's not a number.\n"
          ]
        }
      ]
    },
    {
      "cell_type": "code",
      "source": [
        "#Q13 - How would you check if a file exists before attempting to read it in Python?\n",
        "import os\n",
        "\n",
        "if os.path.exists(\"example.txt\"):\n",
        "    with open(\"example.txt\", \"r\") as file:\n",
        "        print(file.read())\n",
        "else:\n",
        "    print(\"File does not exist.\")"
      ],
      "metadata": {
        "colab": {
          "base_uri": "https://localhost:8080/"
        },
        "id": "4Dard2aCp1_N",
        "outputId": "f0cb9f08-08a5-4556-f701-f4f7f1230dd6"
      },
      "execution_count": 25,
      "outputs": [
        {
          "output_type": "stream",
          "name": "stdout",
          "text": [
            "Hello, I am learning Python!\n",
            "Adding a new line!\n",
            "Adding a new line!\n"
          ]
        }
      ]
    },
    {
      "cell_type": "code",
      "source": [
        "#Q14 - Write a program that uses the logging module to log both informational and error messages?\n",
        "import logging\n",
        "\n",
        "logging.basicConfig(filename='app.log', level=logging.INFO)\n",
        "\n",
        "logging.info(\"Program started successfully\")\n",
        "\n",
        "try:\n",
        "    x = 10 / 0\n",
        "except ZeroDivisionError as e:\n",
        "    logging.error(\"An error occurred: %s\", e)"
      ],
      "metadata": {
        "colab": {
          "base_uri": "https://localhost:8080/"
        },
        "id": "Qx2TMpZlp19L",
        "outputId": "dc684896-0b03-405f-b8c0-7b511e35edb3"
      },
      "execution_count": 26,
      "outputs": [
        {
          "output_type": "stream",
          "name": "stderr",
          "text": [
            "ERROR:root:An error occurred: division by zero\n"
          ]
        }
      ]
    },
    {
      "cell_type": "code",
      "source": [
        "#Q15 Write a Python program that prints the content of a file and handles the case when the file is empty?\n",
        "\n",
        "filename = \"example.txt\"\n",
        "\n",
        "try:\n",
        "    with open(filename, \"r\") as file:\n",
        "        content = file.read()\n",
        "        if content.strip() == \"\":\n",
        "            print(\"The file is empty.\")\n",
        "        else:\n",
        "            print(content)\n",
        "except FileNotFoundError:\n",
        "    print(\"File not found.\")"
      ],
      "metadata": {
        "colab": {
          "base_uri": "https://localhost:8080/"
        },
        "id": "5f6pwEqmp16-",
        "outputId": "7d6ccbb5-08ec-459a-e778-4060f6780ba3"
      },
      "execution_count": 27,
      "outputs": [
        {
          "output_type": "stream",
          "name": "stdout",
          "text": [
            "Hello, I am learning Python!\n",
            "Adding a new line!\n",
            "Adding a new line!\n"
          ]
        }
      ]
    },
    {
      "cell_type": "code",
      "source": [
        "#Q16 - Demonstrate how to use memory profiling to check the memory usage of a small program?\n",
        "\n",
        "# You must install memory_profiler first: pip install memory_profiler\n",
        "from memory_profiler import profile\n",
        "\n",
        "@profile\n",
        "def my_function():\n",
        "    a = [i for i in range(100000)]\n",
        "    return a\n",
        "\n",
        "my_function()"
      ],
      "metadata": {
        "colab": {
          "base_uri": "https://localhost:8080/",
          "height": 383
        },
        "id": "SCACxWdLp14k",
        "outputId": "d4e74f8d-7469-4396-941e-8012a83c0c49"
      },
      "execution_count": 29,
      "outputs": [
        {
          "output_type": "error",
          "ename": "ModuleNotFoundError",
          "evalue": "No module named 'memory_profiler'",
          "traceback": [
            "\u001b[0;31m---------------------------------------------------------------------------\u001b[0m",
            "\u001b[0;31mModuleNotFoundError\u001b[0m                       Traceback (most recent call last)",
            "\u001b[0;32m<ipython-input-29-3fa4691380c2>\u001b[0m in \u001b[0;36m<cell line: 0>\u001b[0;34m()\u001b[0m\n\u001b[1;32m      2\u001b[0m \u001b[0;34m\u001b[0m\u001b[0m\n\u001b[1;32m      3\u001b[0m \u001b[0;31m# You must install memory_profiler first: pip install memory_profiler\u001b[0m\u001b[0;34m\u001b[0m\u001b[0;34m\u001b[0m\u001b[0m\n\u001b[0;32m----> 4\u001b[0;31m \u001b[0;32mfrom\u001b[0m \u001b[0mmemory_profiler\u001b[0m \u001b[0;32mimport\u001b[0m \u001b[0mprofile\u001b[0m\u001b[0;34m\u001b[0m\u001b[0;34m\u001b[0m\u001b[0m\n\u001b[0m\u001b[1;32m      5\u001b[0m \u001b[0;34m\u001b[0m\u001b[0m\n\u001b[1;32m      6\u001b[0m \u001b[0;34m@\u001b[0m\u001b[0mprofile\u001b[0m\u001b[0;34m\u001b[0m\u001b[0;34m\u001b[0m\u001b[0m\n",
            "\u001b[0;31mModuleNotFoundError\u001b[0m: No module named 'memory_profiler'",
            "",
            "\u001b[0;31m---------------------------------------------------------------------------\u001b[0;32m\nNOTE: If your import is failing due to a missing package, you can\nmanually install dependencies using either !pip or !apt.\n\nTo view examples of installing some common dependencies, click the\n\"Open Examples\" button below.\n\u001b[0;31m---------------------------------------------------------------------------\u001b[0m\n"
          ],
          "errorDetails": {
            "actions": [
              {
                "action": "open_url",
                "actionText": "Open Examples",
                "url": "/notebooks/snippets/importing_libraries.ipynb"
              }
            ]
          }
        }
      ]
    },
    {
      "cell_type": "code",
      "source": [
        "#Q17 - Write a Python program to create and write a list of numbers to a file, one number per line?\n",
        "numbers = [1, 2, 3, 4, 5]\n",
        "with open(\"numbers.txt\", \"w\") as file:\n",
        "    for number in numbers:\n",
        "        file.write(str(number) + \"\\n\")"
      ],
      "metadata": {
        "id": "fVOVAezkp12M"
      },
      "execution_count": 32,
      "outputs": []
    },
    {
      "cell_type": "code",
      "source": [
        "#Q18 - How would you implement a basic logging setup that logs to a file with rotation after 1MB?\n",
        "import logging\n",
        "from logging.handlers import RotatingFileHandler\n",
        "\n",
        "handler = RotatingFileHandler(\"rotate_log.log\", maxBytes=1024*1024, backupCount=3)\n",
        "logging.basicConfig(handlers=[handler], level=logging.INFO)\n",
        "\n",
        "for i in range(10000):\n",
        "    logging.info(\"This is log message number %d\", i)"
      ],
      "metadata": {
        "id": "gpUhfYHSp1QD"
      },
      "execution_count": 34,
      "outputs": []
    },
    {
      "cell_type": "code",
      "source": [
        "#Q19 Write a program that handles both IndexError and KeyError using a try-except block ?\n",
        "my_list = [1, 2]\n",
        "my_dict = {\"name\": \"Alice\"}\n",
        "\n",
        "try:\n",
        "    print(my_list[5])  # IndexError\n",
        "    print(my_dict[\"age\"])  # KeyError\n",
        "except IndexError:\n",
        "    print(\"List index out of range!\")\n",
        "except KeyError:\n",
        "    print(\"That key doesn't exist in the dictionary.\")"
      ],
      "metadata": {
        "colab": {
          "base_uri": "https://localhost:8080/"
        },
        "id": "YtKYp9n1q1Xz",
        "outputId": "f7596180-94fd-46c5-d5cd-70e197977863"
      },
      "execution_count": 35,
      "outputs": [
        {
          "output_type": "stream",
          "name": "stdout",
          "text": [
            "List index out of range!\n"
          ]
        }
      ]
    },
    {
      "cell_type": "code",
      "source": [
        "#Q 20 How would you open a file and read its contents using a context manager in Python ?\n",
        "with open(\"example.txt\", \"r\") as file:\n",
        "    content = file.read()\n",
        "    print(content)"
      ],
      "metadata": {
        "colab": {
          "base_uri": "https://localhost:8080/"
        },
        "id": "_uCUww94q1Tw",
        "outputId": "41012f2c-49ea-409d-9201-681718c59833"
      },
      "execution_count": 36,
      "outputs": [
        {
          "output_type": "stream",
          "name": "stdout",
          "text": [
            "Hello, I am learning Python!\n",
            "Adding a new line!\n",
            "Adding a new line!\n"
          ]
        }
      ]
    },
    {
      "cell_type": "code",
      "source": [
        "#q 21 -Write a Python program that reads a file and prints the number of occurrences of a specific wordF\n",
        "word_to_search = \"python\"\n",
        "\n",
        "with open(\"example.txt\", \"r\") as file:\n",
        "    content = file.read()\n",
        "    word_count = content.lower().count(word_to_search.lower())\n",
        "\n",
        "print(f\"The word '{word_to_search}' appeared {word_count} times.\")"
      ],
      "metadata": {
        "colab": {
          "base_uri": "https://localhost:8080/"
        },
        "id": "mSp1Csycq1Qb",
        "outputId": "d04ed195-aed7-4234-e2b2-7b1d6d323227"
      },
      "execution_count": 37,
      "outputs": [
        {
          "output_type": "stream",
          "name": "stdout",
          "text": [
            "The word 'python' appeared 1 times.\n"
          ]
        }
      ]
    },
    {
      "cell_type": "code",
      "source": [
        "#Q22  How can you check if a file is empty before attempting to read its contents ?\n",
        "import os\n",
        "\n",
        "file_path = \"example.txt\"\n",
        "\n",
        "if os.path.exists(file_path) and os.path.getsize(file_path) > 0:\n",
        "    with open(file_path, \"r\") as file:\n",
        "        print(file.read())\n",
        "else:\n",
        "    print(\"File is either missing or empty.\")"
      ],
      "metadata": {
        "colab": {
          "base_uri": "https://localhost:8080/"
        },
        "id": "Tw2lofp7q1Jz",
        "outputId": "78961379-21e9-4d97-a38f-798d105dd076"
      },
      "execution_count": 39,
      "outputs": [
        {
          "output_type": "stream",
          "name": "stdout",
          "text": [
            "Hello, I am learning Python!\n",
            "Adding a new line!\n",
            "Adding a new line!\n"
          ]
        }
      ]
    },
    {
      "cell_type": "code",
      "source": [
        "#Q23 -  Write a Python program that writes to a log file when an error occurs during file handling?\n",
        "import logging\n",
        "\n",
        "logging.basicConfig(filename=\"file_errors.log\", level=logging.ERROR)\n",
        "\n",
        "try:\n",
        "    with open(\"nonexistent.txt\", \"r\") as file:\n",
        "        data = file.read()\n",
        "except FileNotFoundError as e:\n",
        "    logging.error(\"File error: %s\", e)"
      ],
      "metadata": {
        "colab": {
          "base_uri": "https://localhost:8080/"
        },
        "id": "AwtYBnGjrCaL",
        "outputId": "a4812711-c922-491d-e907-e49fa8fc0a35"
      },
      "execution_count": 40,
      "outputs": [
        {
          "output_type": "stream",
          "name": "stderr",
          "text": [
            "ERROR:root:File error: [Errno 2] No such file or directory: 'nonexistent.txt'\n"
          ]
        }
      ]
    },
    {
      "cell_type": "code",
      "source": [],
      "metadata": {
        "id": "_FR6kmG-FyNK"
      },
      "execution_count": null,
      "outputs": []
    }
  ]
}